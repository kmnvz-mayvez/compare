{
 "cells": [
  {
   "cell_type": "markdown",
   "metadata": {},
   "source": [
    "## Spark\n"
   ]
  },
  {
   "cell_type": "markdown",
   "metadata": {},
   "source": [
    "###  Import library"
   ]
  },
  {
   "cell_type": "code",
   "execution_count": 90,
   "metadata": {},
   "outputs": [],
   "source": [
    "from pyspark.sql import SparkSession\n",
    "from pyspark.ml.feature import VectorAssembler\n",
    "from pyspark.ml.classification import DecisionTreeClassifier\n",
    "from pyspark.ml.evaluation import MulticlassClassificationEvaluator\n",
    "from pyspark.ml.feature import StringIndexer\n",
    "from pyspark.sql.types import DoubleType\n",
    "from pyspark.sql.functions import col\n",
    "import time\n"
   ]
  },
  {
   "cell_type": "markdown",
   "metadata": {},
   "source": [
    "### Init spark"
   ]
  },
  {
   "cell_type": "code",
   "execution_count": 91,
   "metadata": {},
   "outputs": [],
   "source": [
    "spark = SparkSession.builder \\\n",
    "    .appName(\"DecisionTreeExample\") \\\n",
    "    .getOrCreate()  "
   ]
  },
  {
   "cell_type": "code",
   "execution_count": 92,
   "metadata": {},
   "outputs": [
    {
     "data": {
      "text/html": [
       "\n",
       "            <div>\n",
       "                <p><b>SparkSession - in-memory</b></p>\n",
       "                \n",
       "        <div>\n",
       "            <p><b>SparkContext</b></p>\n",
       "\n",
       "            <p><a href=\"http://host.docker.internal:4040\">Spark UI</a></p>\n",
       "\n",
       "            <dl>\n",
       "              <dt>Version</dt>\n",
       "                <dd><code>v3.5.1</code></dd>\n",
       "              <dt>Master</dt>\n",
       "                <dd><code>local[*]</code></dd>\n",
       "              <dt>AppName</dt>\n",
       "                <dd><code>DecisionTreeExample</code></dd>\n",
       "            </dl>\n",
       "        </div>\n",
       "        \n",
       "            </div>\n",
       "        "
      ],
      "text/plain": [
       "<pyspark.sql.session.SparkSession at 0x2ded5314ca0>"
      ]
     },
     "execution_count": 92,
     "metadata": {},
     "output_type": "execute_result"
    }
   ],
   "source": [
    "spark"
   ]
  },
  {
   "cell_type": "markdown",
   "metadata": {},
   "source": [
    "### pre-processing data"
   ]
  },
  {
   "cell_type": "code",
   "execution_count": 93,
   "metadata": {},
   "outputs": [
    {
     "data": {
      "text/plain": [
       "[Row(ID='1', N_Days='400', Status='D', Drug='D-penicillamine', Age='21464', Sex='F', Ascites='Y', Hepatomegaly='Y', Spiders='Y', Edema='Y', Bilirubin='14.5', Cholesterol='261', Albumin='2.6', Copper='156', Alk_Phos='1718', SGOT='137.95', Tryglicerides='172', Platelets='190', Prothrombin='12.2', Stage='4'),\n",
       " Row(ID='2', N_Days='4500', Status='C', Drug='D-penicillamine', Age='20617', Sex='F', Ascites='N', Hepatomegaly='Y', Spiders='Y', Edema='N', Bilirubin='1.1', Cholesterol='302', Albumin='4.14', Copper='54', Alk_Phos='7394.8', SGOT='113.52', Tryglicerides='88', Platelets='221', Prothrombin='10.6', Stage='3'),\n",
       " Row(ID='3', N_Days='1012', Status='D', Drug='D-penicillamine', Age='25594', Sex='M', Ascites='N', Hepatomegaly='N', Spiders='N', Edema='S', Bilirubin='1.4', Cholesterol='176', Albumin='3.48', Copper='210', Alk_Phos='516', SGOT='96.1', Tryglicerides='55', Platelets='151', Prothrombin='12', Stage='4'),\n",
       " Row(ID='4', N_Days='1925', Status='D', Drug='D-penicillamine', Age='19994', Sex='F', Ascites='N', Hepatomegaly='Y', Spiders='Y', Edema='S', Bilirubin='1.8', Cholesterol='244', Albumin='2.54', Copper='64', Alk_Phos='6121.8', SGOT='60.63', Tryglicerides='92', Platelets='183', Prothrombin='10.3', Stage='4'),\n",
       " Row(ID='5', N_Days='1504', Status='CL', Drug='Placebo', Age='13918', Sex='F', Ascites='N', Hepatomegaly='Y', Spiders='Y', Edema='N', Bilirubin='3.4', Cholesterol='279', Albumin='3.53', Copper='143', Alk_Phos='671', SGOT='113.15', Tryglicerides='72', Platelets='136', Prothrombin='10.9', Stage='3')]"
      ]
     },
     "execution_count": 93,
     "metadata": {},
     "output_type": "execute_result"
    }
   ],
   "source": [
    "# Membaca data\n",
    "data = spark.read.format(\"csv\").option(\"header\", \"true\").load(\"C:\\compare\\compare\\cirrhosis.csv\")\n",
    "data.head(5)"
   ]
  },
  {
   "cell_type": "code",
   "execution_count": 94,
   "metadata": {},
   "outputs": [],
   "source": [
    "# Mengonversi tipe data kolom-kolom yang seharusnya numerik\n",
    "columns_to_convert = [\"Age\", \"Bilirubin\", \"Cholesterol\", \"Albumin\", \"Copper\", \"Alk_Phos\", \"SGOT\", \"Tryglicerides\", \"Platelets\", \"Prothrombin\", \"Stage\"]\n",
    "for column_name in columns_to_convert:\n",
    "    data = data.withColumn(column_name, col(column_name).cast(DoubleType()))"
   ]
  },
  {
   "cell_type": "code",
   "execution_count": 95,
   "metadata": {},
   "outputs": [],
   "source": [
    "# Indexing kolom stage\n",
    "indexer = StringIndexer(inputCol=\"Stage\", outputCol=\"StageIndex\", handleInvalid=\"skip\")\n",
    "indexed_data = indexer.fit(data).transform(data)"
   ]
  },
  {
   "cell_type": "code",
   "execution_count": 96,
   "metadata": {},
   "outputs": [],
   "source": [
    "# Menghapus baris dengan nilai NULL\n",
    "indexed_data = indexed_data.na.drop()"
   ]
  },
  {
   "cell_type": "code",
   "execution_count": 97,
   "metadata": {},
   "outputs": [],
   "source": [
    "# Mengubah data dengan melakukan vector\n",
    "assembler = VectorAssembler(\n",
    "    inputCols=[\"Age\", \"Bilirubin\", \"Cholesterol\", \"Albumin\", \"Copper\", \"Alk_Phos\", \"SGOT\", \"Tryglicerides\", \"Platelets\", \"Prothrombin\"],\n",
    "    outputCol=\"features\")\n",
    "output = assembler.transform(indexed_data)"
   ]
  },
  {
   "cell_type": "code",
   "execution_count": 98,
   "metadata": {},
   "outputs": [],
   "source": [
    "start_time = time.time()"
   ]
  },
  {
   "cell_type": "markdown",
   "metadata": {},
   "source": [
    "### split test-data"
   ]
  },
  {
   "cell_type": "code",
   "execution_count": 99,
   "metadata": {},
   "outputs": [],
   "source": [
    "# Memilih kolom yang diperlukan untuk melatih model\n",
    "train_data = output.select(\"features\", \"StageIndex\")"
   ]
  },
  {
   "cell_type": "markdown",
   "metadata": {},
   "source": [
    "### train model"
   ]
  },
  {
   "cell_type": "code",
   "execution_count": 100,
   "metadata": {},
   "outputs": [],
   "source": [
    "# Membuat model Decision Tree\n",
    "dt = DecisionTreeClassifier(labelCol=\"StageIndex\", featuresCol=\"features\")\n",
    "model = dt.fit(train_data)"
   ]
  },
  {
   "cell_type": "markdown",
   "metadata": {},
   "source": [
    "### evaluate model"
   ]
  },
  {
   "cell_type": "code",
   "execution_count": 101,
   "metadata": {},
   "outputs": [],
   "source": [
    "# Membuat prediksi menggunakan data validasi\n",
    "predictions = model.transform(output)"
   ]
  },
  {
   "cell_type": "code",
   "execution_count": 102,
   "metadata": {},
   "outputs": [
    {
     "name": "stdout",
     "output_type": "stream",
     "text": [
      "Accuracy: 0.7137681159420289\n",
      "Precision: 0.7260032099087304\n",
      "Recall: 0.713768115942029\n",
      "F1-score: 0.7027288381633572\n",
      "Waktu komputasi: 0.67 detik\n"
     ]
    }
   ],
   "source": [
    "# Menghitung akurasi\n",
    "evaluator = MulticlassClassificationEvaluator(labelCol=\"StageIndex\", predictionCol=\"prediction\", metricName=\"accuracy\")\n",
    "accuracy = evaluator.evaluate(predictions)\n",
    "print(\"Accuracy:\", accuracy)\n",
    "\n",
    "# Menghitung precision\n",
    "evaluator = MulticlassClassificationEvaluator(labelCol=\"StageIndex\", predictionCol=\"prediction\", metricName=\"weightedPrecision\")\n",
    "precision = evaluator.evaluate(predictions)\n",
    "print(\"Precision:\", precision)\n",
    "\n",
    "# Menghitung recall\n",
    "evaluator = MulticlassClassificationEvaluator(labelCol=\"StageIndex\", predictionCol=\"prediction\", metricName=\"weightedRecall\")\n",
    "recall = evaluator.evaluate(predictions)\n",
    "print(\"Recall:\", recall)\n",
    "\n",
    "# Menghitung F1-score\n",
    "evaluator = MulticlassClassificationEvaluator(labelCol=\"StageIndex\", predictionCol=\"prediction\", metricName=\"f1\")\n",
    "f1_score = evaluator.evaluate(predictions)\n",
    "print(\"F1-score:\", f1_score)\n",
    "\n",
    "end_time = time.time()\n",
    "\n",
    "print(\"Waktu komputasi: {:.2f} detik\".format(end_time - start_time))"
   ]
  }
 ],
 "metadata": {
  "kernelspec": {
   "display_name": "my_env",
   "language": "python",
   "name": "python3"
  },
  "language_info": {
   "codemirror_mode": {
    "name": "ipython",
    "version": 3
   },
   "file_extension": ".py",
   "mimetype": "text/x-python",
   "name": "python",
   "nbconvert_exporter": "python",
   "pygments_lexer": "ipython3",
   "version": "3.9.18"
  }
 },
 "nbformat": 4,
 "nbformat_minor": 2
}
